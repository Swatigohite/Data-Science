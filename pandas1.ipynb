{
  "cells": [
    {
      "cell_type": "markdown",
      "metadata": {
        "id": "view-in-github",
        "colab_type": "text"
      },
      "source": [
        "<a href=\"https://colab.research.google.com/github/swatigohite/Data-Science/blob/main/pandas1.ipynb\" target=\"_parent\"><img src=\"https://colab.research.google.com/assets/colab-badge.svg\" alt=\"Open In Colab\"/></a>"
      ]
    },
    {
      "cell_type": "code",
      "execution_count": null,
      "metadata": {
        "colab": {
          "base_uri": "https://localhost:8080/"
        },
        "id": "PEWeq0ahCIaV",
        "outputId": "55c41180-7a4f-4399-80ee-9df5f1ff33a7"
      },
      "outputs": [
        {
          "name": "stdout",
          "output_type": "stream",
          "text": [
            "    cars  passings\n",
            "0    BMW         3\n",
            "1  Volvo         7\n",
            "2   Ford         2\n"
          ]
        }
      ],
      "source": [
        "import pandas as pd\n",
        "mydataset = {\n",
        "    'cars': [\"BMW\",\"Volvo\",\"Ford\"],\n",
        "    'passings': [3,7,2]\n",
        "}\n",
        "myvar = pd.DataFrame(mydataset)\n",
        "print(myvar)"
      ]
    },
    {
      "cell_type": "code",
      "execution_count": null,
      "metadata": {
        "colab": {
          "base_uri": "https://localhost:8080/"
        },
        "id": "LgmMjVL6D2d8",
        "outputId": "e83c2bcb-3158-4630-9675-fe611c71eeff"
      },
      "outputs": [
        {
          "name": "stdout",
          "output_type": "stream",
          "text": [
            "0    1\n",
            "1    7\n",
            "2    2\n",
            "dtype: int64\n"
          ]
        }
      ],
      "source": [
        "import pandas as pd\n",
        "a = [1,7,2]\n",
        "myvar = pd.Series(a)\n",
        "print(myvar)"
      ]
    },
    {
      "cell_type": "code",
      "execution_count": null,
      "metadata": {
        "colab": {
          "base_uri": "https://localhost:8080/"
        },
        "id": "lxzSZPn1EZCB",
        "outputId": "8082da33-1574-40af-e276-27e261f7f00c"
      },
      "outputs": [
        {
          "name": "stdout",
          "output_type": "stream",
          "text": [
            "   calories  duration\n",
            "0       420        50\n",
            "1       350        40\n",
            "2       390        45\n"
          ]
        }
      ],
      "source": [
        "import pandas as pd\n",
        "data = {\n",
        "    \"calories\": [420, 350, 390],\n",
        "    \"duration\": [50, 40, 45]\n",
        "}\n",
        "myvar = pd.DataFrame(data)\n",
        "print(myvar)"
      ]
    },
    {
      "cell_type": "code",
      "execution_count": null,
      "metadata": {
        "colab": {
          "base_uri": "https://localhost:8080/"
        },
        "id": "ozb375NQFGHn",
        "outputId": "a69bae5a-e1a6-4b0f-fe5d-ff1ce2b45fa6"
      },
      "outputs": [
        {
          "name": "stdout",
          "output_type": "stream",
          "text": [
            "x    1\n",
            "y    7\n",
            "z    2\n",
            "dtype: int64\n"
          ]
        }
      ],
      "source": [
        "import pandas as pd\n",
        "a = [1,7,2]\n",
        "myvar = pd.Series(a, index = [\"x\",\"y\",\"z\"])\n",
        "print(myvar)"
      ]
    },
    {
      "cell_type": "code",
      "execution_count": null,
      "metadata": {
        "colab": {
          "base_uri": "https://localhost:8080/"
        },
        "id": "kJcOYscHFWIW",
        "outputId": "5bb47275-e514-43c9-842c-b0bc0911f68f"
      },
      "outputs": [
        {
          "name": "stdout",
          "output_type": "stream",
          "text": [
            "      calories  duration\n",
            "day1       420        50\n",
            "day2       350        40\n",
            "day3       390        45\n"
          ]
        }
      ],
      "source": [
        "import pandas as pd\n",
        "data = {\n",
        "    \"calories\": [420, 350, 390],\n",
        "    \"duration\": [50, 40, 45]\n",
        "}\n",
        "# myvar = pd.DataFrame(data)\n",
        "# print(myvar)\n",
        "# print(myvar.loc[0])\n",
        "# print(myvar.loc[[0, 1]])\n",
        "myvar = pd.DataFrame(data, index = [\"day1\",\"day2\",\"day3\"])\n",
        "print(myvar)"
      ]
    },
    {
      "cell_type": "code",
      "execution_count": null,
      "metadata": {
        "id": "aabMLNNXHGgU",
        "colab": {
          "base_uri": "https://localhost:8080/"
        },
        "outputId": "d4c4776c-460c-4089-d7c1-4ce6cdc7beb5"
      },
      "outputs": [
        {
          "output_type": "stream",
          "name": "stdout",
          "text": [
            "  Unnamed: 0  calories  duration\n",
            "0       day1       420        50\n",
            "1       day2       380        40\n",
            "2       day3       390        45\n",
            "3       day4       123        78\n",
            "4       day5       456        45\n",
            "5       day6       536        53\n",
            "6       day7       864        72\n",
            "7       day8       356        43\n"
          ]
        }
      ],
      "source": [
        "import pandas as pd\n",
        "df = pd.read_csv('/content/drive/MyDrive/csv files/data.csv')\n",
        "print(df)"
      ]
    },
    {
      "cell_type": "code",
      "source": [
        "import pandas as pd\n",
        "df = pd.read_csv('/content/drive/MyDrive/csv files/data.csv')\n",
        "print(df.to_string())"
      ],
      "metadata": {
        "colab": {
          "base_uri": "https://localhost:8080/"
        },
        "id": "NBPCpZlOvOga",
        "outputId": "faf853d5-8b13-4e91-9ea7-1e277b3c36b6"
      },
      "execution_count": null,
      "outputs": [
        {
          "output_type": "stream",
          "name": "stdout",
          "text": [
            "  Unnamed: 0  calories  duration\n",
            "0       day1       420        50\n",
            "1       day2       380        40\n",
            "2       day3       390        45\n",
            "3       day4       123        78\n",
            "4       day5       456        45\n",
            "5       day6       536        53\n",
            "6       day7       864        72\n",
            "7       day8       356        43\n"
          ]
        }
      ]
    },
    {
      "cell_type": "code",
      "source": [
        "import pandas as pd\n",
        "pd.options.display.max_rows = 9999\n",
        "df = pd.read_csv('/content/drive/MyDrive/csv files/data.csv')\n",
        "print(df)"
      ],
      "metadata": {
        "colab": {
          "base_uri": "https://localhost:8080/"
        },
        "id": "Q7ATgcd9wKLm",
        "outputId": "ee5f9029-d17b-4adf-f8a1-9e0ed3edc3dc"
      },
      "execution_count": null,
      "outputs": [
        {
          "output_type": "stream",
          "name": "stdout",
          "text": [
            "  Unnamed: 0  calories  duration\n",
            "0       day1       420        50\n",
            "1       day2       380        40\n",
            "2       day3       390        45\n",
            "3       day4       123        78\n",
            "4       day5       456        45\n",
            "5       day6       536        53\n",
            "6       day7       864        72\n",
            "7       day8       356        43\n"
          ]
        }
      ]
    },
    {
      "cell_type": "code",
      "source": [
        "import pandas as pd\n",
        "df = pd.read_csv('/content/drive/MyDrive/csv files/data.csv')\n",
        "print(df.head(5))\n",
        "print(df.tail())\n",
        "print(df.info())"
      ],
      "metadata": {
        "colab": {
          "base_uri": "https://localhost:8080/"
        },
        "id": "iugVGN2Eww2Y",
        "outputId": "377c5cdc-56bd-46d1-e320-015067b95fc4"
      },
      "execution_count": null,
      "outputs": [
        {
          "output_type": "stream",
          "name": "stdout",
          "text": [
            "  Unnamed: 0  calories  duration\n",
            "0       day1       420        50\n",
            "1       day2       380        40\n",
            "2       day3       390        45\n",
            "3       day4       123        78\n",
            "4       day5       456        45\n",
            "  Unnamed: 0  calories  duration\n",
            "3       day4       123        78\n",
            "4       day5       456        45\n",
            "5       day6       536        53\n",
            "6       day7       864        72\n",
            "7       day8       356        43\n",
            "<class 'pandas.core.frame.DataFrame'>\n",
            "RangeIndex: 8 entries, 0 to 7\n",
            "Data columns (total 3 columns):\n",
            " #   Column      Non-Null Count  Dtype \n",
            "---  ------      --------------  ----- \n",
            " 0   Unnamed: 0  8 non-null      object\n",
            " 1   calories    8 non-null      int64 \n",
            " 2   duration    8 non-null      int64 \n",
            "dtypes: int64(2), object(1)\n",
            "memory usage: 320.0+ bytes\n",
            "None\n"
          ]
        }
      ]
    },
    {
      "cell_type": "code",
      "source": [
        "import pandas as pd\n",
        "df = pd.read_csv('/content/drive/MyDrive/csv files/data.csv')\n",
        "new_df = df.dropna()\n",
        "print(new_df.to_string())"
      ],
      "metadata": {
        "colab": {
          "base_uri": "https://localhost:8080/"
        },
        "id": "Rvluu4gty1kv",
        "outputId": "dd91161d-d804-4a9f-ea2c-468ada064c75"
      },
      "execution_count": null,
      "outputs": [
        {
          "output_type": "stream",
          "name": "stdout",
          "text": [
            "  Unnamed: 0  calories  duration\n",
            "0       day1       420        50\n",
            "1       day2       380        40\n",
            "2       day3       390        45\n",
            "3       day4       123        78\n",
            "4       day5       456        45\n",
            "5       day6       536        53\n",
            "6       day7       864        72\n",
            "7       day8       356        43\n"
          ]
        }
      ]
    },
    {
      "cell_type": "code",
      "source": [
        "import pandas as pd\n",
        "df = pd.read_csv('/content/drive/MyDrive/csv files/data.csv')\n",
        "df.dropna(inplace = True)\n",
        "print(df.to_string())"
      ],
      "metadata": {
        "colab": {
          "base_uri": "https://localhost:8080/"
        },
        "id": "qSo6DFbQzxtb",
        "outputId": "19f1482f-3be3-487f-f09a-cb762db01a76"
      },
      "execution_count": null,
      "outputs": [
        {
          "output_type": "stream",
          "name": "stdout",
          "text": [
            "  Unnamed: 0  calories  duration\n",
            "0       day1       420        50\n",
            "1       day2       380        40\n",
            "2       day3       390        45\n",
            "3       day4       123        78\n",
            "4       day5       456        45\n",
            "5       day6       536        53\n",
            "6       day7       864        72\n",
            "7       day8       356        43\n"
          ]
        }
      ]
    },
    {
      "cell_type": "code",
      "source": [
        "import pandas as pd\n",
        "df = pd.read_csv('/content/drive/MyDrive/csv files/data.csv')\n",
        "df[\"calories\"].fillna(130, inplace =  True)"
      ],
      "metadata": {
        "id": "CPWPKMm20V_0"
      },
      "execution_count": null,
      "outputs": []
    },
    {
      "cell_type": "markdown",
      "metadata": {
        "id": "GeSoMQzHFXk6"
      },
      "source": [
        "**Exercise**(**pandas**)"
      ]
    },
    {
      "cell_type": "code",
      "execution_count": null,
      "metadata": {
        "colab": {
          "base_uri": "https://localhost:8080/"
        },
        "id": "eITYCkT-Ug6e",
        "outputId": "9f48c537-abdf-4f56-f097-5cb084feced4"
      },
      "outputs": [
        {
          "name": "stdout",
          "output_type": "stream",
          "text": [
            "    X   Y   Z\n",
            "0  78  84  86\n",
            "1  85  94  97\n",
            "2  96  89  96\n",
            "3  80  83  72\n",
            "4  86  86  83\n"
          ]
        }
      ],
      "source": [
        "import pandas as pd\n",
        "df = pd.DataFrame({'X':[78,85,96,80,86],'Y':[84,94,89,83,86],'Z':[86,97,96,72,83]});\n",
        "print(df)"
      ]
    },
    {
      "cell_type": "code",
      "execution_count": null,
      "metadata": {
        "colab": {
          "base_uri": "https://localhost:8080/"
        },
        "id": "GSCUBHD1Uz5x",
        "outputId": "bf584243-af46-478a-e59f-a8e03974c2dc"
      },
      "outputs": [
        {
          "name": "stdout",
          "output_type": "stream",
          "text": [
            "        name  score  attempts qualify\n",
            "a  anastasia   12.5         1     yes\n",
            "b       dima    9.0         3      no\n",
            "c  katherine   16.5         2     yes\n",
            "d      james    NaN         3      no\n",
            "e      emily    9.2         2      no\n",
            "f    michael   14.0         3     yes\n",
            "g    matthew    5.0         1     yes\n",
            "h      laura    NaN         1      no\n",
            "i      kevin    8.0         2      no\n",
            "j      jonas   19.0         1     yes\n"
          ]
        }
      ],
      "source": [
        "import pandas as pd\n",
        "import numpy as np\n",
        "exam_data={'name':['anastasia','dima','katherine','james','emily','michael','matthew','laura','kevin','jonas'],\n",
        "           'score':[12.5,9,16.5,np.nan,9.20,14,5,np.nan,8,19],\n",
        "           'attempts':[1,3,2,3,2,3,1,1,2,1],\n",
        "           'qualify': ['yes','no','yes','no','no','yes','yes','no','no','yes']}\n",
        "labels = ['a','b','c','d','e','f','g','h','i','j']\n",
        "df = pd.DataFrame(exam_data,index = labels)\n",
        "print(df)"
      ]
    },
    {
      "cell_type": "code",
      "execution_count": null,
      "metadata": {
        "id": "5NQZJMhyeF5S"
      },
      "outputs": [],
      "source": []
    },
    {
      "cell_type": "code",
      "execution_count": null,
      "metadata": {
        "colab": {
          "base_uri": "https://localhost:8080/"
        },
        "id": "cDC5g1J6eQs4",
        "outputId": "208f1911-b49f-4cbf-d189-ca81faf7102a"
      },
      "outputs": [
        {
          "name": "stdout",
          "output_type": "stream",
          "text": [
            "first 3 rows: \n",
            "        name  score  attempts qualify\n",
            "a  anastasia   12.5         1     yes\n",
            "b       dima    9.0         3      no\n",
            "c  katherine   16.5         2     yes\n",
            "        name  score  attempts qualify\n",
            "a  anastasia   12.5         1     yes\n",
            "b       dima    9.0         3      no\n",
            "c  katherine   16.5         2     yes\n",
            "d      james    NaN         3      no\n",
            "e      emily    9.2         2      no\n",
            "      name  score  attempts qualify\n",
            "e    emily    9.2         2      no\n",
            "f  michael   14.0         3     yes\n",
            "g  matthew    5.0         1     yes\n",
            "h    laura    NaN         1      no\n",
            "i    kevin    8.0         2      no\n",
            "j    jonas   19.0         1     yes\n"
          ]
        }
      ],
      "source": [
        "import pandas as pd\n",
        "import numpy as np\n",
        "exam_data={'name':['anastasia','dima','katherine','james','emily','michael','matthew','laura','kevin','jonas'],\n",
        "           'score':[12.5,9,16.5,np.nan,9.20,14,5,np.nan,8,19],\n",
        "           'attempts':[1,3,2,3,2,3,1,1,2,1],\n",
        "           'qualify': ['yes','no','yes','no','no','yes','yes','no','no','yes']}\n",
        "labels = ['a','b','c','d','e','f','g','h','i','j']\n",
        "df = pd.DataFrame(exam_data,index = labels)\n",
        "print(\"first 3 rows: \")\n",
        "print(df.iloc[:3])\n",
        "print(df.iloc[0:5])\n",
        "print(df.iloc[4:])"
      ]
    },
    {
      "cell_type": "code",
      "execution_count": null,
      "metadata": {
        "colab": {
          "base_uri": "https://localhost:8080/"
        },
        "id": "N_3LUYD7Isie",
        "outputId": "9e54b4b0-8547-458f-c5db-955f2e681656"
      },
      "outputs": [
        {
          "output_type": "stream",
          "name": "stdout",
          "text": [
            "select name and score column\n",
            "        name  score\n",
            "a  anastasia   12.5\n",
            "b       dima    9.0\n",
            "c  katherine   16.5\n",
            "d      james    NaN\n",
            "e      emily    9.2\n",
            "f    michael   14.0\n",
            "g    matthew    5.0\n",
            "h      laura    NaN\n",
            "i      kevin    8.0\n",
            "j      jonas   19.0\n"
          ]
        }
      ],
      "source": [
        "import pandas as pd\n",
        "import numpy as np\n",
        "exam_data={'name':['anastasia','dima','katherine','james','emily','michael','matthew','laura','kevin','jonas'],\n",
        "           'score':[12.5,9,16.5,np.nan,9.20,14,5,np.nan,8,19],\n",
        "           'attempts':[1,3,2,3,2,3,1,1,2,1],\n",
        "           'qualify': ['yes','no','yes','no','no','yes','yes','no','no','yes']}\n",
        "labels = ['a','b','c','d','e','f','g','h','i','j']\n",
        "df = pd.DataFrame(exam_data,index = labels)\n",
        "print(\"select name and score column\")\n",
        "print(df[['name','score']])"
      ]
    },
    {
      "cell_type": "code",
      "source": [
        "import pandas as pd\n",
        "import numpy as np\n",
        "exam_data={'name':['anastasia','dima','katherine','james','emily','michael','matthew','laura','kevin','jonas'],\n",
        "           'score':[12.5,9,16.5,np.nan,9.20,14,5,np.nan,8,19],\n",
        "           'attempts':[1,3,2,3,2,3,1,1,2,1],\n",
        "           'qualify': ['yes','no','yes','no','no','yes','yes','no','no','yes']}\n",
        "labels = ['a','b','c','d','e','f','g','h','i','j']\n",
        "df = pd.DataFrame(exam_data,index = labels)\n",
        "print(\"the no. of attempts in the exam is greater than 2\")\n",
        "print(df[df['attempts']> 2])"
      ],
      "metadata": {
        "colab": {
          "base_uri": "https://localhost:8080/"
        },
        "id": "ATPQDWd514sE",
        "outputId": "d51f932e-1b1a-4c07-87be-ba15101362b3"
      },
      "execution_count": null,
      "outputs": [
        {
          "output_type": "stream",
          "name": "stdout",
          "text": [
            "the no. of attempts in the exam is greater than 2\n",
            "      name  score  attempts qualify\n",
            "b     dima    9.0         3      no\n",
            "d    james    NaN         3      no\n",
            "f  michael   14.0         3     yes\n"
          ]
        }
      ]
    },
    {
      "cell_type": "code",
      "source": [
        "import pandas as pd\n",
        "import numpy as np\n",
        "exam_data={'name':['anastasia','dima','katherine','james','emily','michael','matthew','laura','kevin','jonas'],\n",
        "           'score':[12.5,9,16.5,np.nan,9.20,14,5,np.nan,8,19],\n",
        "           'attempts':[1,3,2,3,2,3,1,1,2,1],\n",
        "           'qualify': ['yes','no','yes','no','no','yes','yes','no','no','yes']}\n",
        "labels = ['a','b','c','d','e','f','g','h','i','j']\n",
        "df = pd.DataFrame(exam_data,index = labels)\n",
        "print(\"the rows where the score is missing\")\n",
        "print(df[df['score'].isnull()])"
      ],
      "metadata": {
        "colab": {
          "base_uri": "https://localhost:8080/"
        },
        "id": "-jtpVqzz3bxf",
        "outputId": "88c8848d-adf5-4535-80f1-334053161558"
      },
      "execution_count": null,
      "outputs": [
        {
          "output_type": "stream",
          "name": "stdout",
          "text": [
            "the rows where the score is missing\n",
            "    name  score  attempts qualify\n",
            "d  james    NaN         3      no\n",
            "h  laura    NaN         1      no\n"
          ]
        }
      ]
    },
    {
      "cell_type": "code",
      "source": [
        "import pandas as pd\n",
        "import numpy as np\n",
        "exam_data={'name':['anastasia','dima','katherine','james','emily','michael','matthew','laura','kevin','jonas'],\n",
        "           'score':[12.5,9,16.5,np.nan,9.20,14,5,np.nan,8,19],\n",
        "           'attempts':[1,3,2,3,2,3,1,1,2,1],\n",
        "           'qualify': ['yes','no','yes','no','no','yes','yes','no','no','yes']}\n",
        "labels = ['a','b','c','d','e','f','g','h','i','j']\n",
        "df = pd.DataFrame(exam_data,index = labels)\n",
        "print(\"mean of the score is\")\n",
        "print(df['score'].mean())"
      ],
      "metadata": {
        "colab": {
          "base_uri": "https://localhost:8080/"
        },
        "id": "YqTDdecB4K0E",
        "outputId": "ee763b22-fa8d-421f-c9a6-5fc603cb01da"
      },
      "execution_count": null,
      "outputs": [
        {
          "output_type": "stream",
          "name": "stdout",
          "text": [
            "mean of the score is\n",
            "11.65\n"
          ]
        }
      ]
    },
    {
      "cell_type": "code",
      "source": [
        "import pandas as pd\n",
        "\n",
        "student_data1 = pd.DataFrame({\n",
        "        'student_id': ['S1', 'S2', 'S3', 'S4', 'S5'],\n",
        "         'name': ['Danniella Fenton', 'Ryder Storey', 'Bryce Jensen', 'Ed Bernal', 'Kwame Morin'],\n",
        "        'marks': [200, 210, 190, 222, 199]})\n",
        "\n",
        "student_data2 = pd.DataFrame({\n",
        "        'student_id': ['S4', 'S5', 'S6', 'S7', 'S8'],\n",
        "        'name': ['Scarlette Fisher', 'Carla Williamson', 'Dante Morse', 'Kaiser William', 'Madeeha Preston'],\n",
        "        'marks': [201, 200, 198, 219, 201]})\n",
        "\n",
        "print(\"1st DataFrames:\")\n",
        "print(student_data1)\n",
        "print(\"2nd DataFrames:\")\n",
        "print(student_data2)\n",
        "print(\"\\nJoin the 1st and 2nd dataframes along rows:\")\n",
        "result_data = pd.concat([student_data1, student_data2])\n",
        "print(result_data)"
      ],
      "metadata": {
        "colab": {
          "base_uri": "https://localhost:8080/"
        },
        "id": "kVzLQb5W40Ml",
        "outputId": "c6132c11-70ee-4a89-9000-c540646ff16a"
      },
      "execution_count": null,
      "outputs": [
        {
          "output_type": "stream",
          "name": "stdout",
          "text": [
            "1st DataFrames:\n",
            "  student_id              name  marks\n",
            "0         S1  Danniella Fenton    200\n",
            "1         S2      Ryder Storey    210\n",
            "2         S3      Bryce Jensen    190\n",
            "3         S4         Ed Bernal    222\n",
            "4         S5       Kwame Morin    199\n",
            "2nd DataFrames:\n",
            "  student_id              name  marks\n",
            "0         S4  Scarlette Fisher    201\n",
            "1         S5  Carla Williamson    200\n",
            "2         S6       Dante Morse    198\n",
            "3         S7    Kaiser William    219\n",
            "4         S8   Madeeha Preston    201\n",
            "\n",
            "Join the 1st and 2nd dataframes along rows:\n",
            "  student_id              name  marks\n",
            "0         S1  Danniella Fenton    200\n",
            "1         S2      Ryder Storey    210\n",
            "2         S3      Bryce Jensen    190\n",
            "3         S4         Ed Bernal    222\n",
            "4         S5       Kwame Morin    199\n",
            "0         S4  Scarlette Fisher    201\n",
            "1         S5  Carla Williamson    200\n",
            "2         S6       Dante Morse    198\n",
            "3         S7    Kaiser William    219\n",
            "4         S8   Madeeha Preston    201\n"
          ]
        }
      ]
    },
    {
      "cell_type": "code",
      "source": [
        "import pandas as pd\n",
        "\n",
        "student_data1 = pd.DataFrame({\n",
        "        'student_id': ['S1', 'S2', 'S3', 'S4', 'S5'],\n",
        "         'name': ['Danniella Fenton', 'Ryder Storey', 'Bryce Jensen', 'Ed Bernal', 'Kwame Morin'],\n",
        "        'marks': [200, 210, 190, 222, 199]})\n",
        "\n",
        "student_data2 = pd.DataFrame({\n",
        "        'student_id': ['S4', 'S5', 'S6', 'S7', 'S8'],\n",
        "        'name': ['Scarlette Fisher', 'Carla Williamson', 'Dante Morse', 'Kaiser William', 'Madeeha Preston'],\n",
        "        'marks': [201, 200, 198, 219, 201]})\n",
        "\n",
        "print(\"1st DataFrames:\")\n",
        "print(student_data1)\n",
        "print(\"2nd DataFrames:\")\n",
        "print(student_data2)\n",
        "print(\"\\nJoin the 1st and 2nd dataframes along columns:\")\n",
        "result_data = pd.concat([student_data1, student_data2], axis = 1)\n",
        "print(result_data)"
      ],
      "metadata": {
        "colab": {
          "base_uri": "https://localhost:8080/"
        },
        "id": "xS6RAhnA6u6e",
        "outputId": "9da1a163-e93f-476b-b5a2-1b5f0f9fcaf1"
      },
      "execution_count": null,
      "outputs": [
        {
          "output_type": "stream",
          "name": "stdout",
          "text": [
            "1st DataFrames:\n",
            "  student_id              name  marks\n",
            "0         S1  Danniella Fenton    200\n",
            "1         S2      Ryder Storey    210\n",
            "2         S3      Bryce Jensen    190\n",
            "3         S4         Ed Bernal    222\n",
            "4         S5       Kwame Morin    199\n",
            "2nd DataFrames:\n",
            "  student_id              name  marks\n",
            "0         S4  Scarlette Fisher    201\n",
            "1         S5  Carla Williamson    200\n",
            "2         S6       Dante Morse    198\n",
            "3         S7    Kaiser William    219\n",
            "4         S8   Madeeha Preston    201\n",
            "\n",
            "Join the 1st and 2nd dataframes along columns:\n",
            "  student_id              name  marks student_id              name  marks\n",
            "0         S1  Danniella Fenton    200         S4  Scarlette Fisher    201\n",
            "1         S2      Ryder Storey    210         S5  Carla Williamson    200\n",
            "2         S3      Bryce Jensen    190         S6       Dante Morse    198\n",
            "3         S4         Ed Bernal    222         S7    Kaiser William    219\n",
            "4         S5       Kwame Morin    199         S8   Madeeha Preston    201\n"
          ]
        }
      ]
    },
    {
      "cell_type": "code",
      "source": [
        "import pandas as pd\n",
        "\n",
        "student_data1 = pd.DataFrame({\n",
        "        'student_id': ['S1', 'S2', 'S3', 'S4', 'S5'],\n",
        "         'name': ['Danniella Fenton', 'Ryder Storey', 'Bryce Jensen', 'Ed Bernal', 'Kwame Morin'],\n",
        "        'marks': [200, 210, 190, 222, 199]})\n",
        "\n",
        "S6 = pd.Series(['S6','scarlette fisher',234], index = ['student_id', 'name','marks'])\n",
        "print(\"Old dataframe\")\n",
        "print(student_data1)\n",
        "print(\"New row\")\n",
        "print(S6)\n",
        "combined_data = student_data1.append(S6,ignore_index = True)\n",
        "print(\"New dataframe:\")\n",
        "print(combined_data)\n"
      ],
      "metadata": {
        "colab": {
          "base_uri": "https://localhost:8080/"
        },
        "id": "XuR5yOq87Men",
        "outputId": "733ed72c-8e47-45e5-b166-89a558afb985"
      },
      "execution_count": null,
      "outputs": [
        {
          "output_type": "stream",
          "name": "stdout",
          "text": [
            "Old dataframe\n",
            "  student_id              name  marks\n",
            "0         S1  Danniella Fenton    200\n",
            "1         S2      Ryder Storey    210\n",
            "2         S3      Bryce Jensen    190\n",
            "3         S4         Ed Bernal    222\n",
            "4         S5       Kwame Morin    199\n",
            "New row\n",
            "student_id                  S6\n",
            "name          scarlette fisher\n",
            "marks                      234\n",
            "dtype: object\n",
            "New dataframe:\n",
            "  student_id              name  marks\n",
            "0         S1  Danniella Fenton    200\n",
            "1         S2      Ryder Storey    210\n",
            "2         S3      Bryce Jensen    190\n",
            "3         S4         Ed Bernal    222\n",
            "4         S5       Kwame Morin    199\n",
            "5         S6  scarlette fisher    234\n"
          ]
        },
        {
          "output_type": "stream",
          "name": "stderr",
          "text": [
            "<ipython-input-27-a6fffbe052c3>:13: FutureWarning: The frame.append method is deprecated and will be removed from pandas in a future version. Use pandas.concat instead.\n",
            "  combined_data = student_data1.append(S6,ignore_index = True)\n"
          ]
        }
      ]
    },
    {
      "cell_type": "code",
      "source": [
        "import pandas as pd\n",
        "world_alcohol_consumption = pd.read_csv('/content/drive/MyDrive/csv files/alcohol.csv')\n",
        "print(\"World alcohol consumption sample data:\")\n",
        "print(world_alcohol_consumption.head())\n",
        "print(\"Shape od the dataframe: \",world_alcohol_consumption.shape)\n",
        "print(\"no. of rows: \",world_alcohol_consumption.shape[0])\n",
        "print(\"no, of column: \",world_alcohol_consumption.shape[1])\n",
        "print(\"column names :\")\n",
        "print(world_alcohol_consumption.columns)"
      ],
      "metadata": {
        "colab": {
          "base_uri": "https://localhost:8080/"
        },
        "id": "zfWdJj6NBPSL",
        "outputId": "19f64c04-a595-4623-f3c9-55973d2b971c"
      },
      "execution_count": null,
      "outputs": [
        {
          "output_type": "stream",
          "name": "stdout",
          "text": [
            "World alcohol consumption sample data:\n",
            "   Year       WHO region               Country   Beverage  Types  Display  \\\n",
            "0  1986  Western pacific               viet nam       NaN   wine      NaN   \n",
            "1  1986         Americas                uraguay       NaN  other      NaN   \n",
            "2  1985           Africa           cte d'ivoire       NaN   wine      NaN   \n",
            "3  1986         Americas               colombia       NaN   beer      NaN   \n",
            "4  1987         Americas  saint kitts and nevis       NaN   beer      NaN   \n",
            "\n",
            "    Value  \n",
            "0    0.00  \n",
            "1    0.50  \n",
            "2    1.62  \n",
            "3    4.27  \n",
            "4    1.98  \n",
            "Shape od the dataframe:  (5, 7)\n",
            "no. of rows:  5\n",
            "no, of column:  7\n",
            "column names :\n",
            "Index(['Year', 'WHO region', 'Country ', 'Beverage', 'Types', 'Display',\n",
            "       ' Value'],\n",
            "      dtype='object')\n"
          ]
        }
      ]
    }
  ],
  "metadata": {
    "colab": {
      "provenance": [],
      "mount_file_id": "1P0Mq-WXZYRh5QsTcHBPocWPVescupKfg",
      "authorship_tag": "ABX9TyOol1kCeTqcRISqmayXnHZ0",
      "include_colab_link": true
    },
    "kernelspec": {
      "display_name": "Python 3",
      "name": "python3"
    },
    "language_info": {
      "name": "python"
    }
  },
  "nbformat": 4,
  "nbformat_minor": 0
}