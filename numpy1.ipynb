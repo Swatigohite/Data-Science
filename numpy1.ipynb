{
  "nbformat": 4,
  "nbformat_minor": 0,
  "metadata": {
    "colab": {
      "provenance": [],
      "mount_file_id": "1VVnTFc1z5f7qhRmpSqhLBuT8ja-h6jX_",
      "authorship_tag": "ABX9TyOY8khbYW208BD2Vl+hF/0C",
      "include_colab_link": true
    },
    "kernelspec": {
      "name": "python3",
      "display_name": "Python 3"
    },
    "language_info": {
      "name": "python"
    }
  },
  "cells": [
    {
      "cell_type": "markdown",
      "metadata": {
        "id": "view-in-github",
        "colab_type": "text"
      },
      "source": [
        "<a href=\"https://colab.research.google.com/github/swatigohite/Data-Science/blob/main/numpy1.ipynb\" target=\"_parent\"><img src=\"https://colab.research.google.com/assets/colab-badge.svg\" alt=\"Open In Colab\"/></a>"
      ]
    },
    {
      "cell_type": "code",
      "execution_count": null,
      "metadata": {
        "colab": {
          "base_uri": "https://localhost:8080/"
        },
        "id": "cDVnlnYTn9BW",
        "outputId": "d9fa3c94-6d6c-4f3f-cbfc-adc607ff987b"
      },
      "outputs": [
        {
          "output_type": "stream",
          "name": "stdout",
          "text": [
            "[1 2 3 4]\n"
          ]
        }
      ],
      "source": [
        "import numpy\n",
        "arr = numpy.array([1,2,3,4])\n",
        "print(arr)"
      ]
    },
    {
      "cell_type": "code",
      "source": [
        "import numpy as np\n",
        "arr = np.array([1,2,3,4])\n",
        "print(arr)\n",
        "print(type(arr))"
      ],
      "metadata": {
        "colab": {
          "base_uri": "https://localhost:8080/"
        },
        "id": "CvtvZ5LzslhG",
        "outputId": "f2d39adc-7a61-49cd-f661-72fb597e8d78"
      },
      "execution_count": null,
      "outputs": [
        {
          "output_type": "stream",
          "name": "stdout",
          "text": [
            "[1 2 3 4]\n",
            "<class 'numpy.ndarray'>\n"
          ]
        }
      ]
    },
    {
      "cell_type": "code",
      "source": [
        "import numpy as np\n",
        "print(np.__version__)"
      ],
      "metadata": {
        "colab": {
          "base_uri": "https://localhost:8080/"
        },
        "id": "ZAMOWKYJs3UM",
        "outputId": "74b1b182-2de6-441f-d7f0-fbe01a72af3b"
      },
      "execution_count": null,
      "outputs": [
        {
          "output_type": "stream",
          "name": "stdout",
          "text": [
            "1.25.2\n"
          ]
        }
      ]
    },
    {
      "cell_type": "code",
      "source": [
        "import numpy as np\n",
        "arr = np.array((1,2,3,4))\n",
        "print(arr)"
      ],
      "metadata": {
        "id": "Lz9sa_pTtHBL",
        "colab": {
          "base_uri": "https://localhost:8080/"
        },
        "outputId": "0e35cfbe-2a70-42f4-f20e-9c6f72309ddc"
      },
      "execution_count": null,
      "outputs": [
        {
          "output_type": "stream",
          "name": "stdout",
          "text": [
            "[1 2 3 4]\n"
          ]
        }
      ]
    },
    {
      "cell_type": "markdown",
      "source": [
        "**1** **Dimension**"
      ],
      "metadata": {
        "id": "BV00A7pCtxMS"
      }
    },
    {
      "cell_type": "code",
      "source": [
        "import numpy as np\n",
        "arr = np.array([1,2,3,4])\n",
        "print(arr)"
      ],
      "metadata": {
        "colab": {
          "base_uri": "https://localhost:8080/"
        },
        "id": "k7iR40-PtLEd",
        "outputId": "f08ffcc0-8c87-4313-efa4-366ed197614c"
      },
      "execution_count": null,
      "outputs": [
        {
          "output_type": "stream",
          "name": "stdout",
          "text": [
            "[1 2 3 4]\n"
          ]
        }
      ]
    },
    {
      "cell_type": "markdown",
      "source": [
        "**2** **Dimension**"
      ],
      "metadata": {
        "id": "P_M3hs-guCi5"
      }
    },
    {
      "cell_type": "code",
      "source": [
        "import numpy as np\n",
        "arr = np.array([[1,2,3,4],[5,6,7,8]])\n",
        "print(arr)"
      ],
      "metadata": {
        "colab": {
          "base_uri": "https://localhost:8080/"
        },
        "id": "qilz8eC0uPKn",
        "outputId": "3a5a5a49-2f67-4ba3-bc5c-d777c48e4229"
      },
      "execution_count": null,
      "outputs": [
        {
          "output_type": "stream",
          "name": "stdout",
          "text": [
            "[[1 2 3 4]\n",
            " [5 6 7 8]]\n"
          ]
        }
      ]
    },
    {
      "cell_type": "markdown",
      "source": [
        "**3** **Dimension**"
      ],
      "metadata": {
        "id": "4e1t2-VAukNB"
      }
    },
    {
      "cell_type": "code",
      "source": [
        "import numpy as np\n",
        "arr = np.array([[[1,2,3,4],[5,6,7,8]],[[9,10,11,12],[13,14,15,16]]])\n",
        "print(arr)"
      ],
      "metadata": {
        "colab": {
          "base_uri": "https://localhost:8080/"
        },
        "id": "SdKSly_kutHk",
        "outputId": "9e031117-37a6-442a-8e6c-f06de661d4a8"
      },
      "execution_count": null,
      "outputs": [
        {
          "output_type": "stream",
          "name": "stdout",
          "text": [
            "[[[ 1  2  3  4]\n",
            "  [ 5  6  7  8]]\n",
            "\n",
            " [[ 9 10 11 12]\n",
            "  [13 14 15 16]]]\n"
          ]
        }
      ]
    },
    {
      "cell_type": "markdown",
      "source": [
        "**Access** **Array** **Element**"
      ],
      "metadata": {
        "id": "qRN6q80SwLSr"
      }
    },
    {
      "cell_type": "code",
      "source": [
        "import numpy as np\n",
        "arr = np.array([1,2,3,4])\n",
        "print(arr[1])\n",
        "print(arr[2])\n",
        "print(arr[1] + arr[2])"
      ],
      "metadata": {
        "colab": {
          "base_uri": "https://localhost:8080/"
        },
        "id": "jDRYYBfExK7a",
        "outputId": "c58a9647-f806-454a-fdd0-23f98f4ddb4c"
      },
      "execution_count": null,
      "outputs": [
        {
          "output_type": "stream",
          "name": "stdout",
          "text": [
            "2\n",
            "3\n",
            "5\n"
          ]
        }
      ]
    },
    {
      "cell_type": "code",
      "source": [
        "import numpy as np\n",
        "arr = np.array([[1,2,3,4],[5,6,7,8]])\n",
        "print('2nd element of 1st row', arr[0,1])"
      ],
      "metadata": {
        "colab": {
          "base_uri": "https://localhost:8080/"
        },
        "id": "ZKLlt3rX1ad1",
        "outputId": "1c351348-3c56-4b58-a820-5bd3ef302305"
      },
      "execution_count": null,
      "outputs": [
        {
          "output_type": "stream",
          "name": "stdout",
          "text": [
            "2nd element of 1st row 2\n"
          ]
        }
      ]
    },
    {
      "cell_type": "code",
      "source": [
        "import numpy as np\n",
        "arr = np.array([[[1,2,3,4],[5,6,7,8]],[[9,10,11,12],[13,14,15,16]]])\n",
        "print(arr[1,1,2])\n",
        "print(arr[0,0,2])\n",
        "print(arr[1,0,0])"
      ],
      "metadata": {
        "colab": {
          "base_uri": "https://localhost:8080/"
        },
        "id": "BCfjjS_W3Qws",
        "outputId": "8784b63f-8e1f-47d9-b443-640632203a15"
      },
      "execution_count": null,
      "outputs": [
        {
          "output_type": "stream",
          "name": "stdout",
          "text": [
            "15\n",
            "3\n",
            "9\n"
          ]
        }
      ]
    },
    {
      "cell_type": "code",
      "source": [
        "import numpy as np\n",
        "arr = np.array([[1,2,3,4],[5,6,7,8]])\n",
        "print('last element of 2nd dim',arr[1,-1])\n",
        "print('last element of 1st dim',arr[0,-1])"
      ],
      "metadata": {
        "colab": {
          "base_uri": "https://localhost:8080/"
        },
        "id": "jSahEcW34PsK",
        "outputId": "a2ec2fea-9671-4f0c-bdad-332396b82433"
      },
      "execution_count": null,
      "outputs": [
        {
          "output_type": "stream",
          "name": "stdout",
          "text": [
            "last element of 2nd dim 8\n",
            "last element of 1st dim 4\n"
          ]
        }
      ]
    },
    {
      "cell_type": "markdown",
      "source": [
        "**Slicing**"
      ],
      "metadata": {
        "id": "mDm6QvzOHWN2"
      }
    },
    {
      "cell_type": "code",
      "source": [
        "import numpy as np\n",
        "arr = np.array([1,2,3,4,5,6,7,8])\n",
        "print(arr[1:4])\n",
        "print(arr[0:5])\n",
        "print(arr[1:])\n",
        "print(arr[:4])"
      ],
      "metadata": {
        "colab": {
          "base_uri": "https://localhost:8080/"
        },
        "id": "iFNsuxzhHbbA",
        "outputId": "6da1b22b-433c-42aa-8d43-bb5cd0df7a4b"
      },
      "execution_count": null,
      "outputs": [
        {
          "output_type": "stream",
          "name": "stdout",
          "text": [
            "[2 3 4]\n",
            "[1 2 3 4 5]\n",
            "[2 3 4 5 6 7 8]\n",
            "[1 2 3 4]\n"
          ]
        }
      ]
    },
    {
      "cell_type": "code",
      "source": [
        "import numpy as np\n",
        "arr = np.array([[1,2,3,4],[5,6,7,8]])\n",
        "print(arr[1, 1:3])\n",
        "print(arr[0, :3])\n",
        "print(arr[1, 0:])\n",
        "print(arr[0: , 1:3])\n",
        "print(arr[:2, 1:3])"
      ],
      "metadata": {
        "colab": {
          "base_uri": "https://localhost:8080/"
        },
        "id": "xjq7GkFpH43C",
        "outputId": "2ac0bc1c-1e17-4a1b-842f-e7c448b5a7df"
      },
      "execution_count": null,
      "outputs": [
        {
          "output_type": "stream",
          "name": "stdout",
          "text": [
            "[6 7]\n",
            "[1 2 3]\n",
            "[5 6 7 8]\n",
            "[[2 3]\n",
            " [6 7]]\n",
            "[[2 3]\n",
            " [6 7]]\n"
          ]
        }
      ]
    },
    {
      "cell_type": "markdown",
      "source": [
        "**Exercise (numpy)**"
      ],
      "metadata": {
        "id": "jZbsNa0VJfS3"
      }
    },
    {
      "cell_type": "code",
      "source": [
        "import numpy as np\n",
        "print(np.__version__)"
      ],
      "metadata": {
        "colab": {
          "base_uri": "https://localhost:8080/"
        },
        "id": "I9AEhksKIrG9",
        "outputId": "45009fec-95ba-4ead-c966-da94eb606e2f"
      },
      "execution_count": null,
      "outputs": [
        {
          "output_type": "stream",
          "name": "stdout",
          "text": [
            "1.25.2\n"
          ]
        }
      ]
    },
    {
      "cell_type": "code",
      "source": [
        "import numpy as np\n",
        "x = np.array([1,0,0,0])\n",
        "# print(\"original array: \")\n",
        "print(x)\n",
        "print(\"array is non-zero: \")\n",
        "print(np.any(x))\n",
        "\n",
        "x = np.array([0,0,0,0])\n",
        "# print(\"original array: \")\n",
        "print(x)\n",
        "print(\"array is non-zero: \")\n",
        "print(np.any(x))"
      ],
      "metadata": {
        "colab": {
          "base_uri": "https://localhost:8080/"
        },
        "id": "zyPfdnq4gxi2",
        "outputId": "537aafec-8596-46e1-82cd-f3b2b28fffe1"
      },
      "execution_count": null,
      "outputs": [
        {
          "output_type": "stream",
          "name": "stdout",
          "text": [
            "[1 0 0 0]\n",
            "array is non-zero: \n",
            "True\n",
            "[0 0 0 0]\n",
            "array is non-zero: \n",
            "False\n"
          ]
        }
      ]
    },
    {
      "cell_type": "code",
      "source": [
        "import numpy as np\n",
        "x = np.array([23,56,45,89,87])\n",
        "y = np.array([23,67,45,89,56])\n",
        "print(x)\n",
        "print(y)\n",
        "\n",
        "print(\"equal\")\n",
        "print(np.equal(x,y))\n",
        "print(\"greater\")\n",
        "print(np.greater(x,y))\n",
        "print(\"less\")\n",
        "print(np.less(x,y))\n",
        "print(\"greater_equal\")\n",
        "print(np.greater_equal(x,y))\n",
        "print(\"less_equal\")\n",
        "print(np.less_equal(x,y))"
      ],
      "metadata": {
        "colab": {
          "base_uri": "https://localhost:8080/"
        },
        "id": "Pg9IHi1Y7D3j",
        "outputId": "d445775b-a420-4a9a-a273-54ed7120fab7"
      },
      "execution_count": null,
      "outputs": [
        {
          "output_type": "stream",
          "name": "stdout",
          "text": [
            "[23 56 45 89 87]\n",
            "[23 67 45 89 56]\n",
            "equal\n",
            "[ True False  True  True False]\n",
            "greater\n",
            "[False False False False  True]\n",
            "less\n",
            "[False  True False False False]\n",
            "greater_equal\n",
            "[ True False  True  True  True]\n",
            "less_equal\n",
            "[ True  True  True  True False]\n"
          ]
        }
      ]
    },
    {
      "cell_type": "code",
      "source": [
        "import numpy as np\n",
        "x = np.array([1,7,13,105])\n",
        "print(x)\n",
        "print(\"size of the memory occupied by the array: \")\n",
        "print(\"%d bytes \" % (x.size * x.itemsize))"
      ],
      "metadata": {
        "colab": {
          "base_uri": "https://localhost:8080/"
        },
        "id": "CExbOLWQ8tEq",
        "outputId": "d94f79d1-741b-4204-f411-eb0565cbf370"
      },
      "execution_count": null,
      "outputs": [
        {
          "output_type": "stream",
          "name": "stdout",
          "text": [
            "[  1   7  13 105]\n",
            "size of the memory occupied by the array: \n",
            "32 bytes \n"
          ]
        }
      ]
    },
    {
      "cell_type": "code",
      "source": [
        "import numpy as np\n",
        "array = np.arange(30, 71)\n",
        "print(\"the array of the integer is : \")\n",
        "print(array)"
      ],
      "metadata": {
        "colab": {
          "base_uri": "https://localhost:8080/"
        },
        "id": "bSPZ0jPQ97ss",
        "outputId": "959482fb-5846-4a9b-aa23-711db6d32acf"
      },
      "execution_count": null,
      "outputs": [
        {
          "output_type": "stream",
          "name": "stdout",
          "text": [
            "the array of the integer is : \n",
            "[30 31 32 33 34 35 36 37 38 39 40 41 42 43 44 45 46 47 48 49 50 51 52 53\n",
            " 54 55 56 57 58 59 60 61 62 63 64 65 66 67 68 69 70]\n"
          ]
        }
      ]
    },
    {
      "cell_type": "code",
      "source": [
        "import numpy as np\n",
        "array = np.arange(30, 71, 2)\n",
        "print(\"the array of the even integer is : \")\n",
        "print(array)"
      ],
      "metadata": {
        "colab": {
          "base_uri": "https://localhost:8080/"
        },
        "id": "YO0j8-b7-y6m",
        "outputId": "39f53924-efd4-4b13-a80c-dcd93aa7fe55"
      },
      "execution_count": null,
      "outputs": [
        {
          "output_type": "stream",
          "name": "stdout",
          "text": [
            "the array of the integer is : \n",
            "[30 32 34 36 38 40 42 44 46 48 50 52 54 56 58 60 62 64 66 68 70]\n"
          ]
        }
      ]
    },
    {
      "cell_type": "code",
      "source": [
        "import numpy as np\n",
        "array = np.arange(30, 71, 3)\n",
        "print(\"the array of the even integer is : \")\n",
        "print(array)"
      ],
      "metadata": {
        "colab": {
          "base_uri": "https://localhost:8080/"
        },
        "id": "mYydsgUH_apy",
        "outputId": "f1de362b-1d4e-4aee-c158-3d9986c1ef8c"
      },
      "execution_count": null,
      "outputs": [
        {
          "output_type": "stream",
          "name": "stdout",
          "text": [
            "the array of the even integer is : \n",
            "[30 33 36 39 42 45 48 51 54 57 60 63 66 69]\n"
          ]
        }
      ]
    },
    {
      "cell_type": "code",
      "source": [
        "import numpy as np\n",
        "array = np.identity(3)\n",
        "print(\"3x3 matrix: \")\n",
        "print(array)"
      ],
      "metadata": {
        "colab": {
          "base_uri": "https://localhost:8080/"
        },
        "id": "0hLDIr9X_yTl",
        "outputId": "daf43c7e-6fcb-4066-e882-3296acceec7d"
      },
      "execution_count": null,
      "outputs": [
        {
          "output_type": "stream",
          "name": "stdout",
          "text": [
            "3x3 matrix: \n",
            "[[1. 0. 0.]\n",
            " [0. 1. 0.]\n",
            " [0. 0. 1.]]\n"
          ]
        }
      ]
    },
    {
      "cell_type": "code",
      "source": [],
      "metadata": {
        "id": "gCOO7onbAbNx"
      },
      "execution_count": null,
      "outputs": []
    }
  ]
}